{
  "nbformat": 4,
  "nbformat_minor": 0,
  "metadata": {
    "colab": {
      "name": "Lab_8_Classification_jyoti_shukla.ipynb",
      "provenance": [],
      "collapsed_sections": [],
      "include_colab_link": true
    },
    "kernelspec": {
      "name": "python3",
      "display_name": "Python 3"
    },
    "language_info": {
      "name": "python"
    }
  },
  "cells": [
    {
      "cell_type": "markdown",
      "metadata": {
        "id": "view-in-github",
        "colab_type": "text"
      },
      "source": [
        "<a href=\"https://colab.research.google.com/github/Jyoti-S-Shukla/Machine-learning-models/blob/main/Classification.ipynb\" target=\"_parent\"><img src=\"https://colab.research.google.com/assets/colab-badge.svg\" alt=\"Open In Colab\"/></a>"
      ]
    },
    {
      "cell_type": "markdown",
      "metadata": {
        "id": "3Mv3HAc5lxDS"
      },
      "source": [
        "#Classification\n",
        "\n",
        "  1. Support Vector Machines \n",
        "  2. K-Nearest Neighbors\n",
        "  3. Classification on MNIST Digit "
      ]
    },
    {
      "cell_type": "code",
      "metadata": {
        "id": "NS7TheMHWvey"
      },
      "source": [
        "import numpy as np\n",
        "import matplotlib.pyplot as plt\n",
        "import math"
      ],
      "execution_count": null,
      "outputs": []
    },
    {
      "cell_type": "markdown",
      "metadata": {
        "id": "SijY2JQYm6MH"
      },
      "source": [
        "#Support Vector Machines (SVM)\n",
        "\n"
      ]
    },
    {
      "cell_type": "markdown",
      "metadata": {
        "id": "YrR-b3HRqHyt"
      },
      "source": [
        "1. Try to maximize the margin of separation between data.\n",
        "2. Instead of learning wx+b=0  separating hyperplane directly (like logistic regression), SVM try to learn wx+b=0, such that, the margin between two hyperplanes wx+b=1 and wx+b=-1 (also known as support vectors) is maximum. \n",
        "3. Margin between wx+b=1 and wx+b=-1 hyperplane is $\\frac{2}{||w||}$\n",
        "4. we have a constraint optimization problem of maximizing $\\frac{2}{||w||}$, with constraints wx+b>=1 (for +ve class) and wx+b<=-1 (for -ve class).\n",
        "5. As $y_{i}=1$ for +ve class and $y_{i}=-1$ for -ve class, the constraint can be re-written as:\n",
        "$$y(wx+b)>=1$$\n",
        "\n",
        "6. Final optimization is (i.e to find w and b):\n",
        "$$\\min_{||w||}\\frac{1}{2}||w||,$$\n",
        "$$y(wx+b) \\geq 1,~\\forall ~data $$\n",
        "\n",
        "\n",
        "\n",
        "Acknowledgement:\n",
        "\n",
        "https://pythonprogramming.net/predictions-svm-machine-learning-tutorial/\n",
        "\n",
        "https://medium.com/deep-math-machine-learning-ai/chapter-3-1-svm-from-scratch-in-python-86f93f853dc"
      ]
    },
    {
      "cell_type": "markdown",
      "metadata": {
        "id": "0WCG5fd2n6fo"
      },
      "source": [
        "## Data generation:\n",
        "1. Generate 2D gaussian data with fixed mean and variance for 2 class.(var=Identity, class1: mean[-4,-4], class2: mean[1,1], No. of data 25 from each class)\n",
        "2. create the label matrix\n",
        "3. Plot the generated data"
      ]
    },
    {
      "cell_type": "code",
      "metadata": {
        "colab": {
          "base_uri": "https://localhost:8080/",
          "height": 316
        },
        "id": "a72yGlURm9aR",
        "outputId": "96e58b1d-e275-4e57-925f-0000a68bb546"
      },
      "source": [
        "No_sample=50\n",
        "mean1=np.array([-3,-3])\n",
        "var1=np.array([[1,0],[0,1]])\n",
        "mean2=np.array([1,1])\n",
        "var2=var1\n",
        "data1=np.random.multivariate_normal(mean1,var1,int(No_sample/2))\n",
        "data2=np.random.multivariate_normal(mean2,var2,int(No_sample/2))\n",
        "X=np.concatenate((data1,data2))\n",
        "print(X.shape)\n",
        "y=np.concatenate((-1*np.ones(data1.shape[0]),np.ones(data2.shape[0])))\n",
        "print(y.shape)\n",
        "\n",
        "plt.figure()\n",
        "plt.scatter(X[:,0],X[:,1],marker='o',c=y)"
      ],
      "execution_count": null,
      "outputs": [
        {
          "output_type": "stream",
          "name": "stdout",
          "text": [
            "(50, 2)\n",
            "(50,)\n"
          ]
        },
        {
          "output_type": "execute_result",
          "data": {
            "text/plain": [
              "<matplotlib.collections.PathCollection at 0x7fb10a7d9c50>"
            ]
          },
          "metadata": {},
          "execution_count": 13
        },
        {
          "output_type": "display_data",
          "data": {
            "image/png": "[encoded data removed]",
            "text/plain": [
              "<Figure size 432x288 with 1 Axes>"
            ]
          },
          "metadata": {
            "needs_background": "light"
          }
        }
      ]
    },
    {
      "cell_type": "markdown",
      "metadata": {
        "id": "Phj7pyfloB14"
      },
      "source": [
        "Create a data dictionary, which contains both label and data points."
      ]
    },
    {
      "cell_type": "code",
      "metadata": {
        "id": "bHCOeQPGoBgn"
      },
      "source": [
        "postiveX=[]\n",
        "negativeX=[]\n",
        "\n",
        "## Write your code here\n",
        "for i,v in enumerate(y):\n",
        "    if v==-1:\n",
        "        negativeX.append(X[i])\n",
        "    else:\n",
        "        postiveX.append(X[i])\n",
        "#our data dictionary\n",
        "data_dict = {-1:np.array(negativeX), 1:np.array(postiveX)} "
      ],
      "execution_count": null,
      "outputs": []
    },
    {
      "cell_type": "markdown",
      "metadata": {
        "id": "0eLaHuaEoGua"
      },
      "source": [
        "## SVM training\n",
        "1. create a search space for w (i.e w1=w2),[0, 0.5*max((abs(feat)))] and  for b, [-max((abs(feat))),max((abs(feat)))], with appropriate step.\n",
        "2. we will start with a higher step and find optimal w and b, then we will reduce the step and again re-evaluate the optimal one.\n",
        "\n",
        "3. In each step, we will take transform of w, [1,1], [-1,1],[1,-1] and [-1,-1] to search arround the w. \n",
        "\n",
        "4. In every pass (for a fixed step size) we will store all the w, b and its corresponding ||w||, which make the data correctly classified as per the condition $y(wx+b) \\geq 1$. \n",
        "\n",
        "5. Obtain the optimal hyperplane having minimum ||w||.\n",
        "\n",
        "6. Start with the optimal w and repeat the same (step 3,4 and 5) for a reduced step size.\n"
      ]
    },
    {
      "cell_type": "code",
      "metadata": {
        "colab": {
          "base_uri": "https://localhost:8080/"
        },
        "id": "ktbkC_hq1NUb",
        "outputId": "2b82f37b-5af1-4058-8175-50326d984d09"
      },
      "source": [
        "print(y)"
      ],
      "execution_count": null,
      "outputs": [
        {
          "output_type": "stream",
          "name": "stdout",
          "text": [
            "[-1. -1. -1. -1. -1. -1. -1. -1. -1. -1. -1. -1. -1. -1. -1. -1. -1. -1.\n",
            " -1. -1. -1. -1. -1. -1. -1.  1.  1.  1.  1.  1.  1.  1.  1.  1.  1.  1.\n",
            "  1.  1.  1.  1.  1.  1.  1.  1.  1.  1.  1.  1.  1.  1.]\n"
          ]
        }
      ]
    },
    {
      "cell_type": "code",
      "metadata": {
        "id": "eA-qsOnolXrt"
      },
      "source": [
        "max_feature_value=float('-inf')\n",
        "min_feature_value=float('+inf')\n",
        "        \n",
        "for yi in data_dict:\n",
        "    if np.amax(data_dict[yi])>max_feature_value:\n",
        "        max_feature_value=np.amax(data_dict[yi])\n",
        "                \n",
        "    if np.amin(data_dict[yi])<min_feature_value:\n",
        "        min_feature_value=np.amin(data_dict[yi])\n",
        "        \n",
        "learning_rate = [max_feature_value * 0.1, max_feature_value * 0.01, max_feature_value * 0.001,]"
      ],
      "execution_count": null,
      "outputs": []
    },
    {
      "cell_type": "code",
      "metadata": {
        "id": "S0SJ1SkDoHk4"
      },
      "source": [
        "# it is just a searching algorithem, not a complicated optimization algorithem, (just for understanding of concepts through visualization)\n",
        "\n",
        "def SVM_Training(data_dict):\n",
        "\n",
        "    # insert your code here\n",
        "    i=1\n",
        "    global w\n",
        "    global b\n",
        "    # { ||w||: [w,b] }\n",
        "    length_Wvector = {}\n",
        "    transforms = [[1,1],[-1,1],[-1,-1],[1,-1]]\n",
        "    \n",
        "    b_step_size = 2\n",
        "    b_multiple = 5\n",
        "    w_optimum = max_feature_value*0.5\n",
        "\n",
        "    for lrate in learning_rate:\n",
        "        \n",
        "        w = np.array([w_optimum,w_optimum])     \n",
        "        optimized = False\n",
        "        while not optimized:\n",
        "            #b=[-maxvalue to maxvalue] we wanna maximize the b values so check for every b value\n",
        "            for b in np.arange(-1*(max_feature_value*b_step_size), max_feature_value*b_step_size, lrate*b_multiple):\n",
        "                for transformation in transforms:  # transforms = [[1,1],[-1,1],[-1,-1],[1,-1]]\n",
        "                    w_t = w*transformation\n",
        "                    \n",
        "                    correctly_classified = True\n",
        "                    \n",
        "                    # every data point should be correct\n",
        "                    for yi in data_dict:\n",
        "                        for xi in data_dict[yi]:\n",
        "                            if yi*(np.dot(w_t,xi)+b) < 1:  # we want  yi*(np.dot(w_t,xi)+b) >= 1 for correct classification\n",
        "                                correctly_classified = False\n",
        "                                \n",
        "                    if correctly_classified:\n",
        "                        length_Wvector[np.linalg.norm(w_t)] = [w_t,b] #store w, b for minimum magnitude\n",
        "            \n",
        "            if w[0] < 0:\n",
        "                optimized = True\n",
        "            else:\n",
        "                w = w - lrate\n",
        "\n",
        "        norms = sorted([n for n in length_Wvector])\n",
        "        \n",
        "        minimum_wlength = length_Wvector[norms[0]]\n",
        "        w = minimum_wlength[0]\n",
        "        b = minimum_wlength[1]\n",
        "        \n",
        "        w_optimum = w[0]+lrate*2\n",
        "    \n",
        "        return w,b\n"
      ],
      "execution_count": null,
      "outputs": []
    },
    {
      "cell_type": "markdown",
      "metadata": {
        "id": "Z61b1mAfoOg0"
      },
      "source": [
        "**Training**"
      ]
    },
    {
      "cell_type": "code",
      "metadata": {
        "colab": {
          "base_uri": "https://localhost:8080/"
        },
        "id": "oL5YnFPeoO--",
        "outputId": "0c800fe4-e9cc-4a63-be9e-6737684b07bb"
      },
      "source": [
        "# All the required variables \n",
        "w=[] # Weights 2 dimensional vector\n",
        "b=[] # Bias\n",
        "w,b=SVM_Training(data_dict)\n",
        "print(w)\n",
        "print(b)"
      ],
      "execution_count": null,
      "outputs": [
        {
          "output_type": "stream",
          "name": "stdout",
          "text": [
            "[0.84799178 0.84799178]\n",
            "1.4133196371349346\n"
          ]
        }
      ]
    },
    {
      "cell_type": "markdown",
      "metadata": {
        "id": "iJNvumy3oXXi"
      },
      "source": [
        "## Visualization of the SVM separating hyperplanes (after training)"
      ]
    },
    {
      "cell_type": "code",
      "metadata": {
        "id": "fsGQFTlIoYKj"
      },
      "source": [
        "def visualize(data_dict):\n",
        "       \n",
        "        plt.scatter(X[:,0],X[:,1],marker='o',c=y)\n",
        "\n",
        "        # hyperplane = x.w+b\n",
        "        # v = x.w+b\n",
        "        # psv = 1\n",
        "        # nsv = -1\n",
        "        # dec = 0\n",
        "        def hyperplane_value(x,w,b,v):\n",
        "            return (-w[0]*x-b+v) / w[1]\n",
        "\n",
        "        \n",
        "        hyp_x_min = np.min([np.min(data_dict[1]),np.min(data_dict[-1])])\n",
        "        hyp_x_max = np.max([np.max(data_dict[1]),np.max(data_dict[-1])])\n",
        "\n",
        "        # (w.x+b) = 1\n",
        "        # positive support vector hyperplane\n",
        "        psv1 = hyperplane_value(hyp_x_min, w, b, 1)\n",
        "        psv2 = hyperplane_value(hyp_x_max, w, b, 1)\n",
        "        plt.plot([hyp_x_min,hyp_x_max],[psv1,psv2], 'k')\n",
        "\n",
        "        # (w.x+b) = -1\n",
        "        # negative support vector hyperplane\n",
        "        nsv1 = hyperplane_value(hyp_x_min, w, b, -1)\n",
        "        nsv2 = hyperplane_value(hyp_x_max, w, b, -1)\n",
        "        plt.plot([hyp_x_min,hyp_x_max],[nsv1,nsv2], 'k')\n",
        "\n",
        "        # (w.x+b) = 0\n",
        "        # positive support vector hyperplane\n",
        "        db1 = hyperplane_value(hyp_x_min, w, b, 0)\n",
        "        db2 = hyperplane_value(hyp_x_max, w, b, 0)\n",
        "        plt.plot([hyp_x_min,hyp_x_max],[db1,db2], 'y--')\n",
        "        \n",
        "        \n",
        "        "
      ],
      "execution_count": null,
      "outputs": []
    },
    {
      "cell_type": "code",
      "metadata": {
        "colab": {
          "base_uri": "https://localhost:8080/",
          "height": 265
        },
        "id": "uqu0Z8Nnodvy",
        "outputId": "5e88e454-c575-469e-81b7-dd0b0cf645dd"
      },
      "source": [
        "fig = plt.figure()\n",
        "visualize(data_dict)"
      ],
      "execution_count": null,
      "outputs": [
        {
          "output_type": "display_data",
          "data": {
            "image/png": "[encoded data removed]",
            "text/plain": [
              "<Figure size 432x288 with 1 Axes>"
            ]
          },
          "metadata": {
            "needs_background": "light"
          }
        }
      ]
    },
    {
      "cell_type": "markdown",
      "metadata": {
        "id": "Hc2Tv8o0obsa"
      },
      "source": [
        "**Testing**"
      ]
    },
    {
      "cell_type": "code",
      "metadata": {
        "id": "Rb2tGapZohLM"
      },
      "source": [
        "def predict(data,w,b):\n",
        "  y_pred = np.sign(np.dot(np.array(data),w)+b)\n",
        "  return y_pred"
      ],
      "execution_count": null,
      "outputs": []
    },
    {
      "cell_type": "code",
      "metadata": {
        "colab": {
          "base_uri": "https://localhost:8080/",
          "height": 299
        },
        "id": "mo2AIA3qopXm",
        "outputId": "a12dc390-8fc4-48a6-e3ef-d5c76464df2c"
      },
      "source": [
        "No_test_sample=40\n",
        "data1=np.random.multivariate_normal(mean1,var1,int(No_test_sample/2))\n",
        "data2=np.random.multivariate_normal(mean2,var2,int(No_test_sample/2))\n",
        "test_data=np.concatenate((data1,data2))\n",
        "y_gr=np.concatenate((-1*np.ones(data1.shape[0]),np.ones(data2.shape[0])))\n",
        "\n",
        "# evaluate with the trained model\n",
        "\n",
        "y_pred = predict(test_data,w,b)\n",
        "matched =0;\n",
        "for i in range(No_test_sample):\n",
        "  if(y_gr[i] == y_pred[i]):\n",
        "    matched = matched +1\n",
        "accuracy = (matched/No_test_sample)*100\n",
        "print('test accuracy=',accuracy)\n",
        "\n",
        "#  Visualization\n",
        "plt.figure()\n",
        "visualize(data_dict)\n",
        "plt.scatter(test_data[:,0],test_data[:,1],marker='x',c=y_gr)\n"
      ],
      "execution_count": null,
      "outputs": [
        {
          "output_type": "stream",
          "name": "stdout",
          "text": [
            "test accuracy= 100.0\n"
          ]
        },
        {
          "output_type": "execute_result",
          "data": {
            "text/plain": [
              "<matplotlib.collections.PathCollection at 0x7fb105dcfe10>"
            ]
          },
          "metadata": {},
          "execution_count": 49
        },
        {
          "output_type": "display_data",
          "data": {
            "image/png": "[encoded data removed]",
            "text/plain": [
              "<Figure size 432x288 with 1 Axes>"
            ]
          },
          "metadata": {
            "needs_background": "light"
          }
        }
      ]
    },
    {
      "cell_type": "markdown",
      "metadata": {
        "id": "SZ2tNKujp4GY"
      },
      "source": [
        "**Use the Sci-kit Learn Package and perform Classification on the above dataset using the SVM algorithm**"
      ]
    },
    {
      "cell_type": "code",
      "metadata": {
        "id": "GEeB59yip7pI",
        "colab": {
          "base_uri": "https://localhost:8080/"
        },
        "outputId": "5d844502-88c3-4e8b-9dc2-f09eed246e90"
      },
      "source": [
        "## Write your code here\n",
        "# \"Support Vector Classifier\"\n",
        "from sklearn.svm import SVC  \n",
        "clf = SVC(kernel='linear') \n",
        "  \n",
        "# fitting x samples and y classes \n",
        "clf.fit(X, y) "
      ],
      "execution_count": null,
      "outputs": [
        {
          "output_type": "execute_result",
          "data": {
            "text/plain": [
              "SVC(C=1.0, break_ties=False, cache_size=200, class_weight=None, coef0=0.0,\n",
              "    decision_function_shape='ovr', degree=3, gamma='scale', kernel='linear',\n",
              "    max_iter=-1, probability=False, random_state=None, shrinking=True,\n",
              "    tol=0.001, verbose=False)"
            ]
          },
          "metadata": {},
          "execution_count": 50
        }
      ]
    },
    {
      "cell_type": "code",
      "metadata": {
        "colab": {
          "base_uri": "https://localhost:8080/"
        },
        "id": "b-ltRlyq6IuP",
        "outputId": "5ca150c7-d16b-4d29-a003-a7ffc04fefc1"
      },
      "source": [
        "y_pred_svc= clf.predict(test_data)\n",
        "print(y_pred_svc)\n",
        "from sklearn import metrics\n",
        "# Model Accuracy: how often is the classifier correct?\n",
        "print(\"Accuracy:\",metrics.accuracy_score(y_gr, y_pred_svc))"
      ],
      "execution_count": null,
      "outputs": [
        {
          "output_type": "stream",
          "name": "stdout",
          "text": [
            "[-1. -1. -1. -1. -1. -1. -1. -1. -1. -1. -1. -1. -1. -1. -1. -1. -1. -1.\n",
            " -1. -1.  1.  1.  1.  1.  1.  1.  1.  1.  1.  1.  1.  1.  1.  1.  1.  1.\n",
            "  1.  1.  1.  1.]\n",
            "Accuracy: 1.0\n"
          ]
        }
      ]
    },
    {
      "cell_type": "markdown",
      "metadata": {
        "id": "mcLrD0lXmGu8"
      },
      "source": [
        "#K-Nearest Neighbours (KNN)"
      ]
    },
    {
      "cell_type": "code",
      "metadata": {
        "colab": {
          "base_uri": "https://localhost:8080/",
          "height": 298
        },
        "id": "lo8_k4OnmQSo",
        "outputId": "6fe3e439-4888-417c-cf71-eb8d2d4eec14"
      },
      "source": [
        "import numpy as np\n",
        "import matplotlib.pyplot as plt\n",
        "\n",
        "mean1=np.array([0,0])\n",
        "mean2=np.array([1,1])\n",
        "var=np.array([[1,0.1],[0.1,1]])\n",
        "np.random.seed(0)\n",
        "data1=np.random.multivariate_normal(mean1,var,500)\n",
        "data2=np.random.multivariate_normal(mean2,var,500)\n",
        "data_train=np.concatenate((data1[:-100,],data2[:-100]))\n",
        "label=np.concatenate((np.zeros(data1.shape[0]-100),np.ones(data2.shape[0]-100)))\n",
        "\n",
        "plt.figure()\n",
        "plt.scatter(data_train[:,0],data_train[:,1],c=label)\n",
        "plt.title('Data visualization')"
      ],
      "execution_count": null,
      "outputs": [
        {
          "output_type": "execute_result",
          "data": {
            "text/plain": [
              "Text(0.5, 1.0, 'Data visualization')"
            ]
          },
          "metadata": {},
          "execution_count": 52
        },
        {
          "output_type": "display_data",
          "data": {
            "image/png": "[encoded data removed]",
            "text/plain": [
              "<Figure size 432x288 with 1 Axes>"
            ]
          },
          "metadata": {
            "needs_background": "light"
          }
        }
      ]
    },
    {
      "cell_type": "code",
      "metadata": {
        "id": "SNvi2JezmTdv"
      },
      "source": [
        "def euclidean_distance(row1, row2):\n",
        "  return np.linalg.norm(row1-row2)"
      ],
      "execution_count": null,
      "outputs": []
    },
    {
      "cell_type": "code",
      "metadata": {
        "id": "p7bHKojymWDK"
      },
      "source": [
        "def get_neighbors(train, label_train,test_row, num_neighbors):\n",
        "  ## write your code here\n",
        "  neighbors = []\n",
        "  for i,l in zip(train,label_train):\n",
        "      neighbors.append([euclidean_distance(i,test_row),l])\n",
        "  neighbors.sort()\n",
        "  neighbors = neighbors[:num_neighbors]\n",
        "  return neighbors"
      ],
      "execution_count": null,
      "outputs": []
    },
    {
      "cell_type": "code",
      "metadata": {
        "id": "8o48BauFmX6G"
      },
      "source": [
        "def predict_classification(neighbors):\n",
        "  ## write your code here\n",
        "  uniqueLabels, count = np.unique(np.array(neighbors)[:,1], return_counts=True)\n",
        "  prediction = int(uniqueLabels[count.argmax()])\n",
        "  return prediction"
      ],
      "execution_count": null,
      "outputs": []
    },
    {
      "cell_type": "code",
      "metadata": {
        "id": "wGgiErPimZue"
      },
      "source": [
        "# test data generation\n",
        "data_test=np.concatenate((data1[-100:],data2[-100:]))\n",
        "label_test=np.concatenate((np.zeros(100),np.ones(100)))"
      ],
      "execution_count": null,
      "outputs": []
    },
    {
      "cell_type": "code",
      "metadata": {
        "colab": {
          "base_uri": "https://localhost:8080/"
        },
        "id": "xJQI4SRAxuak",
        "outputId": "da2f05bf-76a9-4f15-d95e-84a6f2b554ca"
      },
      "source": [
        "print(data_train)"
      ],
      "execution_count": null,
      "outputs": [
        {
          "output_type": "stream",
          "name": "stdout",
          "text": [
            "[[-1.57668985 -1.03982262]\n",
            " [-2.22908837  0.77738534]\n",
            " [-0.72944014 -2.04059601]\n",
            " ...\n",
            " [ 2.15720954  1.41127735]\n",
            " [ 0.85710811  1.10323246]\n",
            " [ 1.1661146   1.53210936]]\n"
          ]
        }
      ]
    },
    {
      "cell_type": "code",
      "metadata": {
        "colab": {
          "base_uri": "https://localhost:8080/"
        },
        "id": "ELgGMgKnmeKu",
        "outputId": "f8f8b57f-3047-4912-b94f-071626f93386"
      },
      "source": [
        "K=2\n",
        "\n",
        "pred_label=np.zeros(data_test.shape[0])\n",
        "for i in range(data_test.shape[0]):\n",
        "  neig=get_neighbors(data_train,label,data_test[i,:], K)\n",
        "  pred_label[i]=predict_classification(neig)\n",
        "\n",
        "accuracy=(len(np.where(pred_label==label_test)[0])/len(label_test))*100\n",
        "print('Testing Accuracy=',accuracy,'%')\n",
        "print(pred_label[:5])\n",
        "print(label_test[:5])"
      ],
      "execution_count": null,
      "outputs": [
        {
          "output_type": "stream",
          "name": "stdout",
          "text": [
            "Testing Accuracy= 65.5 %\n",
            "[0. 0. 0. 1. 0.]\n",
            "[0. 0. 0. 0. 0.]\n"
          ]
        }
      ]
    },
    {
      "cell_type": "code",
      "metadata": {
        "colab": {
          "base_uri": "https://localhost:8080/"
        },
        "id": "Z55JoMLuYkGE",
        "outputId": "0b96904e-bfd9-4e3c-cd7f-874d6d78353f"
      },
      "source": [
        "from scipy.stats import mode\n",
        "class K_Nearest_Neighbors_Classifier() : \n",
        "      \n",
        "    def __init__( self, K ) :\n",
        "          \n",
        "        self.K = K\n",
        "          \n",
        "    # Function to store training set\n",
        "          \n",
        "    def fit( self, X_train, Y_train ) :\n",
        "          \n",
        "        self.X_train = X_train\n",
        "          \n",
        "        self.Y_train = Y_train\n",
        "          \n",
        "        # no_of_training_examples, no_of_features\n",
        "          \n",
        "        self.m, self.n = X_train.shape\n",
        "      \n",
        "    # Function for prediction\n",
        "          \n",
        "    def predict( self, X_test ) :\n",
        "          \n",
        "        self.X_test = X_test\n",
        "          \n",
        "        # no_of_test_examples, no_of_features\n",
        "          \n",
        "        self.m_test, self.n = X_test.shape\n",
        "          \n",
        "        # initialize Y_predict\n",
        "          \n",
        "        Y_predict = np.zeros( self.m_test )\n",
        "          \n",
        "        for i in range( self.m_test ) :\n",
        "              \n",
        "            x = self.X_test[i]\n",
        "              \n",
        "            # find the K nearest neighbors from current test example\n",
        "              \n",
        "            neighbors = np.zeros( self.K )\n",
        "              \n",
        "            neighbors = self.find_neighbors( x )\n",
        "              \n",
        "            # most frequent class in K neighbors\n",
        "              \n",
        "            Y_predict[i] = mode( neighbors )[0][0]    \n",
        "              \n",
        "        return Y_predict\n",
        "      \n",
        "    # Function to find the K nearest neighbors to current test example\n",
        "            \n",
        "    def find_neighbors( self, x ) :\n",
        "          \n",
        "        # calculate all the euclidean distances between current \n",
        "        # test example x and training set X_train\n",
        "          \n",
        "        euclidean_distances = np.zeros( self.m )\n",
        "          \n",
        "        for i in range( self.m ) :\n",
        "              \n",
        "            d = self.euclidean( x, self.X_train[i] )\n",
        "              \n",
        "            euclidean_distances[i] = d\n",
        "          \n",
        "        # sort Y_train according to euclidean_distance_array and \n",
        "        # store into Y_train_sorted\n",
        "          \n",
        "        inds = euclidean_distances.argsort()\n",
        "          \n",
        "        Y_train_sorted = self.Y_train[inds]\n",
        "          \n",
        "        return Y_train_sorted[:self.K]\n",
        "      \n",
        "    # Function to calculate euclidean distance\n",
        "              \n",
        "    def euclidean( self, x, x_train ) :\n",
        "          \n",
        "        return np.sqrt( np.sum( np.square( x - x_train ) ) )\n",
        "  \n",
        "# Driver code\n",
        "  \n",
        "def main() :\n",
        "      \n",
        "    # Importing dataset\n",
        "      \n",
        "    #df = pd.read_csv( \"diabetes.csv\" )\n",
        "  \n",
        "    #X = df.iloc[:,:-1].values\n",
        "  \n",
        "    #Y = df.iloc[:,-1:].values\n",
        "    X_train = data_train\n",
        "    Y_train = label\n",
        "    X_test = data_test\n",
        "    Y_test = label_test  \n",
        "      \n",
        "    # Model training\n",
        "      \n",
        "    model = K_Nearest_Neighbors_Classifier( K = 2 )\n",
        "      \n",
        "    model.fit( X_train, Y_train )\n",
        "      \n",
        "    #model1 = KNeighborsClassifier( n_neighbors = 3 )\n",
        "      \n",
        "    #model1.fit( X_train, Y_train )\n",
        "      \n",
        "    # Prediction on test set\n",
        "  \n",
        "    Y_pred = model.predict( X_test )\n",
        "      \n",
        "    #Y_pred1 = model1.predict( X_test )\n",
        "      \n",
        "    # measure performance\n",
        "      \n",
        "    correctly_classified = 0      \n",
        "    # counter\n",
        "      \n",
        "    count = 0\n",
        "      \n",
        "    for count in range( np.size( Y_pred ) ) :\n",
        "          \n",
        "        if Y_test[count] == Y_pred[count] :\n",
        "              \n",
        "            correctly_classified = correctly_classified + 1              \n",
        "        count = count + 1\n",
        "          \n",
        "    print( \"Accuracy on test set by our model       :  \", ( \n",
        "      correctly_classified / count ) * 100 )      \n",
        "      \n",
        "if __name__ == \"__main__\" : \n",
        "      \n",
        "    main()"
      ],
      "execution_count": null,
      "outputs": [
        {
          "output_type": "stream",
          "name": "stdout",
          "text": [
            "Accuracy on test set by our model       :   65.5\n"
          ]
        }
      ]
    },
    {
      "cell_type": "markdown",
      "metadata": {
        "id": "kZ3mcjd3nFg2"
      },
      "source": [
        "**Use the Sci-kit Learn Package and perform Classification on the above dataset using the K-Nearest Neighbour algorithm**"
      ]
    },
    {
      "cell_type": "code",
      "metadata": {
        "id": "XmfzWbEZnbX-",
        "colab": {
          "base_uri": "https://localhost:8080/"
        },
        "outputId": "cc33cf51-184c-4304-e9de-fb14f914bd91"
      },
      "source": [
        "## Write your code here\n",
        "from sklearn.neighbors import KNeighborsClassifier\n",
        "X_train = data_train\n",
        "Y_train = label\n",
        "X_test = data_test\n",
        "Y_test = label_test\n",
        "model1 = KNeighborsClassifier( n_neighbors = 2 )\n",
        "model1.fit( X_train, Y_train)\n",
        "Y_pred1 = model1.predict( X_test )\n",
        "correctly_classified1 = 0      \n",
        "    # counter      \n",
        "count = 0      \n",
        "for count in range( np.size( Y_pred1) ) :\n",
        "  if Y_test[count] == Y_pred1[count] :\n",
        "    correctly_classified1 = correctly_classified1 + 1              \n",
        "    count = count + 1\n",
        "print( \"Accuracy on test set by sklearn model   :  \", ( \n",
        "      correctly_classified1 / count ) * 100 )"
      ],
      "execution_count": null,
      "outputs": [
        {
          "output_type": "stream",
          "name": "stdout",
          "text": [
            "Accuracy on test set by sklearn model   :   65.5\n"
          ]
        }
      ]
    },
    {
      "cell_type": "markdown",
      "metadata": {
        "id": "ygq-jJs6Lxs9"
      },
      "source": [
        "#Classification on MNIST Digit Data"
      ]
    },
    {
      "cell_type": "markdown",
      "metadata": {
        "id": "cXApOGmzMxRp"
      },
      "source": [
        "1. Read MNIST data and perform train-test split\n",
        "2. Select any 2 Classes and perform classification task using SVM, KNN and Logistic Regression algorithms with the help of Sci-Kit Learn tool\n",
        "3. Report the train and test accuracy and also display the results using confusion matrix\n",
        "4. Repeat steps 2 and 3 for all 10 Classes and tabulate the results"
      ]
    },
    {
      "cell_type": "code",
      "metadata": {
        "colab": {
          "base_uri": "https://localhost:8080/"
        },
        "id": "ymD0dhncK2gb",
        "outputId": "fcad30f5-c733-48aa-eabf-b133d825f854"
      },
      "source": [
        " !pip install idx2numpy"
      ],
      "execution_count": null,
      "outputs": [
        {
          "output_type": "stream",
          "name": "stdout",
          "text": [
            "Collecting idx2numpy\n",
            "  Downloading idx2numpy-1.2.3.tar.gz (6.8 kB)\n",
            "Requirement already satisfied: numpy in /usr/local/lib/python3.7/dist-packages (from idx2numpy) (1.19.5)\n",
            "Requirement already satisfied: six in /usr/local/lib/python3.7/dist-packages (from idx2numpy) (1.15.0)\n",
            "Building wheels for collected packages: idx2numpy\n",
            "  Building wheel for idx2numpy (setup.py) ... \u001b[?25l\u001b[?25hdone\n",
            "  Created wheel for idx2numpy: filename=idx2numpy-1.2.3-py3-none-any.whl size=7919 sha256=4d045ed85ff74836b0e7e8142be89eaacf8f7c16495a291273500f02743025eb\n",
            "  Stored in directory: /root/.cache/pip/wheels/1a/ce/ad/d5e95a35cfe34149aade5e500f2edd535c0566d79e9a8e1d8a\n",
            "Successfully built idx2numpy\n",
            "Installing collected packages: idx2numpy\n",
            "Successfully installed idx2numpy-1.2.3\n"
          ]
        }
      ]
    },
    {
      "cell_type": "code",
      "metadata": {
        "id": "qPJhg4hhMXaE"
      },
      "source": [
        "## Write your code here\n",
        "import idx2numpy \n",
        "from keras.utils import np_utils \n",
        "img_path = \"/content/t10k-images-idx3-ubyte\"## write your code here \n",
        "label_path = \"/content/t10k-labels-idx1-ubyte\"## write your code here\n",
        "Images = idx2numpy.convert_from_file(img_path) \n",
        "labels = idx2numpy.convert_from_file(label_path)"
      ],
      "execution_count": null,
      "outputs": []
    },
    {
      "cell_type": "code",
      "metadata": {
        "colab": {
          "base_uri": "https://localhost:8080/"
        },
        "id": "pzU4w64jN1TB",
        "outputId": "4d8f4381-f933-4802-8fbe-aa427b60f259"
      },
      "source": [
        "X = Images\n",
        "y = labels\n",
        "from sklearn.model_selection import train_test_split \n",
        "X_train, X_test, y_train, y_test = train_test_split(X, y, test_size=0.10, random_state=123)\n",
        "print(X_train.shape,X_test.shape,y_train.shape,y_test.shape)"
      ],
      "execution_count": null,
      "outputs": [
        {
          "output_type": "stream",
          "name": "stdout",
          "text": [
            "(9000, 28, 28) (1000, 28, 28) (9000,) (1000,)\n"
          ]
        }
      ]
    },
    {
      "cell_type": "code",
      "metadata": {
        "id": "WOXXszt83ihy"
      },
      "source": [
        "def pair_wise(cl):\n",
        "  # for class 1\n",
        "  id_1=np.where(y_train==cl[0])\n",
        "  id1=id_1[0]\n",
        "  #id1=id1[:50]\n",
        "  Im_1=X_train[id1,:,:]\n",
        "  lab_1=y_train[id1]\n",
        "  # for class 5\n",
        "  id_2=np.where(y_train==cl[1])\n",
        "  id2=id_2[0]\n",
        "  #id5=id5[:50]\n",
        "  Im_2=X_train[id2,:,:]\n",
        "  lab_2=y_train[id2]\n",
        "  plt.imshow(Im_1[1,:,:])\n",
        "  plt.figure()\n",
        "  plt.imshow(Im_2[1,:,:])\n",
        "  plt.figure()\n",
        "  data=np.concatenate((Im_1,Im_2))\n",
        "  data=np.reshape(data,(data.shape[0],data.shape[1]*data.shape[2]))\n",
        "  print(data.shape)\n",
        "  label_12=np.concatenate((lab_1,lab_2))\n",
        "  print(label_12.shape)\n",
        "  data = data.astype('float32')\n",
        "  data /= 255\n",
        "\n",
        "  # testing data\n",
        "  id_1=np.where(y_test==cl[0])\n",
        "  id1=id_1[0]\n",
        "  #id1=id1[100:150]\n",
        "  Im_1=X_test[id1,:,:]\n",
        "  lab_1=y_test[id1]\n",
        "  # for class 5\n",
        "  id_2=np.where(y_test==cl[1])\n",
        "  id2=id_2[0]\n",
        "  #id5=id5[100:150]\n",
        "  Im_2=X_test[id2,:,:]\n",
        "  lab_2=y_test[id2]\n",
        "  plt.imshow(Im_1[1,:,:])\n",
        "  plt.figure()\n",
        "  plt.imshow(Im_2[1,:,:])\n",
        "  print(Im_2.shape)\n",
        "  data_tst=np.concatenate((Im_1,Im_2))\n",
        "  data_tst=np.reshape(data_tst,(data_tst.shape[0],data_tst.shape[1]*data_tst.shape[2]))\n",
        "  tst_lab=np.concatenate((lab_1,lab_2))\n",
        "\n",
        "  return data, label_12,data_tst,tst_lab\n",
        "  "
      ],
      "execution_count": null,
      "outputs": []
    },
    {
      "cell_type": "code",
      "metadata": {
        "colab": {
          "base_uri": "https://localhost:8080/",
          "height": 1000
        },
        "id": "948MLtgyFLCK",
        "outputId": "aa297308-575d-450b-c23c-21d948f9cc1f"
      },
      "source": [
        "data_train, label_train,data_test, label_test = pair_wise([1,5])"
      ],
      "execution_count": null,
      "outputs": [
        {
          "output_type": "stream",
          "name": "stdout",
          "text": [
            "(1800, 784)\n",
            "(1800,)\n",
            "(103, 28, 28)\n"
          ]
        },
        {
          "output_type": "display_data",
          "data": {
            "image/png": "[encoded data removed]",
            "text/plain": [
              "<Figure size 432x288 with 1 Axes>"
            ]
          },
          "metadata": {
            "needs_background": "light"
          }
        },
        {
          "output_type": "display_data",
          "data": {
            "image/png": "[encoded data removed]",
            "text/plain": [
              "<Figure size 432x288 with 1 Axes>"
            ]
          },
          "metadata": {
            "needs_background": "light"
          }
        },
        {
          "output_type": "display_data",
          "data": {
            "image/png": "[encoded data removed]",
            "text/plain": [
              "<Figure size 432x288 with 1 Axes>"
            ]
          },
          "metadata": {
            "needs_background": "light"
          }
        },
        {
          "output_type": "display_data",
          "data": {
            "image/png": "[encoded data removed]",
            "text/plain": [
              "<Figure size 432x288 with 1 Axes>"
            ]
          },
          "metadata": {
            "needs_background": "light"
          }
        }
      ]
    },
    {
      "cell_type": "code",
      "metadata": {
        "id": "aI-9EKyv5INA"
      },
      "source": [
        "def classifiers(k, data, label):\n",
        "  from sklearn.neighbors import KNeighborsClassifier\n",
        "  print(\"Training through KNN\")\n",
        "  knn = KNeighborsClassifier(n_neighbors=k)\n",
        "  knn_fit= knn.fit(data, label)\n",
        "  knn_training_accuracy = knn.score(data,label)*100\n",
        "  print('KNN Training accuracy =',knn_training_accuracy)\n",
        "  print(\"\\n\")\n",
        "\n",
        "  print(\" Training through SVM\")\n",
        "  from sklearn.svm import SVC  \n",
        "  clf = SVC(kernel='linear') \n",
        "  # fitting x samples and y classes \n",
        "  svm_fit=clf.fit(data, label) \n",
        "  SVM_Training_accuracy = clf.score(data,label)*100\n",
        "  print(\"SVM training accuracy\",SVM_Training_accuracy )\n",
        "  print(\"\\n\")\n",
        "\n",
        "  print(\"Training through Logistic Regression\")\n",
        "  from sklearn.linear_model import LogisticRegression\n",
        "  logistic_reg = LogisticRegression()\n",
        "  logreg_fit =logistic_reg.fit(data, label)\n",
        "  Logistic_training_accuracy = logistic_reg.score(data,label)*100\n",
        "  print(\"Logisitc training accuracy\",Logistic_training_accuracy)\n",
        "  print(\"\\n\")\n",
        "\n",
        "  return knn_training_accuracy,SVM_Training_accuracy,Logistic_training_accuracy,knn_fit, svm_fit, logreg_fit\n"
      ],
      "execution_count": null,
      "outputs": []
    },
    {
      "cell_type": "code",
      "metadata": {
        "colab": {
          "base_uri": "https://localhost:8080/"
        },
        "id": "dnZCwwM66aHJ",
        "outputId": "6c018640-a381-49fc-8d59-5886e1223e37"
      },
      "source": [
        "knn_training_accuracy,SVM_Training_accuracy,Logistic_training_accuracy,knn_fit, svm_fit, logreg_fit = classifiers(5,data_train,label_train)"
      ],
      "execution_count": null,
      "outputs": [
        {
          "output_type": "stream",
          "name": "stdout",
          "text": [
            "Training through KNN\n",
            "KNN Training accuracy = 99.72222222222223\n",
            "\n",
            "\n",
            " Training through SVM\n",
            "SVM training accuracy 100.0\n",
            "\n",
            "\n",
            "Training through Logistic Regression\n",
            "Logisitc training accuracy 100.0\n",
            "\n",
            "\n"
          ]
        }
      ]
    },
    {
      "cell_type": "code",
      "metadata": {
        "id": "G_fCBQ7x8Auw"
      },
      "source": [
        "def testing_classifiers(k,data_tst,tst_lab, knn_fit, svm_fit, logreg_fit):\n",
        "  from sklearn.neighbors import KNeighborsClassifier\n",
        "  from sklearn.metrics import plot_confusion_matrix\n",
        "  from sklearn.svm import SVC  \n",
        "  from sklearn.linear_model import LogisticRegression\n",
        "  print(\"Testing through KNN\")\n",
        "  knn = KNeighborsClassifier(n_neighbors=k)\n",
        "  knn = knn_fit\n",
        "  knn_predicted = knn.predict(data_tst)\n",
        "  # final testing\n",
        "  knn_testing_accuracy = knn.score(data_tst,knn_predicted)*100\n",
        "  print('KNN Testing accuracy =',knn_testing_accuracy)\n",
        "  print(\"Confusion matrix for knn \\n\")\n",
        "  # Generate confusion matrix\n",
        "  knn_matrix = plot_confusion_matrix(knn_fit,data_tst,knn_predicted,\n",
        "                                 cmap=plt.cm.Blues,\n",
        "                                 normalize='true')\n",
        "  print(\"Confusion matrix for knn\",knn_matrix)\n",
        "  plt.title('Confusion matrix for knn classifier')\n",
        "  plt.show(knn_matrix)\n",
        "  plt.show()\n",
        "  print(\"\\n\")\n",
        "\n",
        "  print(\"Testing through SVM\")\n",
        "  clf = SVC(kernel='linear')\n",
        "  clf = svm_fit\n",
        "  svm_predicted= clf.predict(data_tst)\n",
        "  #print(svm_predicted)\n",
        "  from sklearn import metrics\n",
        "  SVM_test_accuracy = metrics.accuracy_score(tst_lab, svm_predicted)*100\n",
        "  print(\"Accuracy of testing with SVM:\",SVM_test_accuracy)\n",
        "  print(\"Confusion matrix for SVM\")\n",
        "  svm_matrix = plot_confusion_matrix(svm_fit,data_tst,svm_predicted,\n",
        "                                 cmap=plt.cm.Blues,\n",
        "                                 normalize='true')\n",
        "  print(\"Confusion matrix for svm\",svm_matrix)\n",
        "  plt.title('Confusion matrix for svm classifier')\n",
        "  plt.show(svm_matrix)\n",
        "  plt.show()\n",
        "  print(\"\\n\")\n",
        "\n",
        "  print(\"Testing through logistic regression\")\n",
        "  logistic_reg = LogisticRegression()\n",
        "  logistic_reg = logreg_fit\n",
        "  logreg_predicted = logistic_reg.predict(data_tst)\n",
        "  #print(predictions)\n",
        "  # Use score method to get accuracy of model\n",
        "  Logistic_testing_accuracy = logistic_reg.score(data_tst,logreg_predicted)*100\n",
        "  print(\"Accuracy of testing with logistic regression:\",Logistic_testing_accuracy)\n",
        "  print(\"Confusion matrix for SVM\")\n",
        "  logreg_matrix = plot_confusion_matrix(logreg_fit,data_tst,logreg_predicted,\n",
        "                                 cmap=plt.cm.Blues,\n",
        "                                 normalize='true')\n",
        "  print(\"Confusion matrix for logistic regression\",logreg_matrix)\n",
        "  plt.title('Confusion matrix for logistic regression classifier')\n",
        "  plt.show(logreg_matrix)\n",
        "  plt.show()\n",
        "  #print(\"\\n\")\n",
        "  \n",
        "  return knn_predicted, knn_testing_accuracy, knn_matrix, svm_predicted, SVM_test_accuracy, svm_matrix,logreg_predicted,Logistic_testing_accuracy, logreg_matrix"
      ],
      "execution_count": null,
      "outputs": []
    },
    {
      "cell_type": "code",
      "metadata": {
        "colab": {
          "base_uri": "https://localhost:8080/",
          "height": 1000
        },
        "id": "P8f_ycmYEHAO",
        "outputId": "7b9f990e-8d60-40d3-9538-09f7be14e644"
      },
      "source": [
        "knn_predicted, knn_testing_accuracy, knn_matrix, svm_predicted, SVM_test_accuracy, svm_matrix,logreg_predicted,Logistic_testing_accuracy, logreg_matrix = testing_classifiers(5,data_test,label_test,knn_fit,svm_fit,logreg_fit)"
      ],
      "execution_count": null,
      "outputs": [
        {
          "output_type": "stream",
          "name": "stdout",
          "text": [
            "Testing through KNN\n",
            "KNN Testing accuracy = 100.0\n",
            "Confusion matrix for knn \n",
            "\n",
            "Confusion matrix for knn <sklearn.metrics._plot.confusion_matrix.ConfusionMatrixDisplay object at 0x7f8ce97d3850>\n"
          ]
        },
        {
          "output_type": "display_data",
          "data": {
            "image/png": "[encoded data removed]",
            "text/plain": [
              "<Figure size 432x288 with 2 Axes>"
            ]
          },
          "metadata": {
            "needs_background": "light"
          }
        },
        {
          "output_type": "stream",
          "name": "stdout",
          "text": [
            "\n",
            "\n",
            "Testing through SVM\n",
            "Accuracy of testing with SVM: 99.11894273127754\n",
            "Confusion matrix for SVM\n",
            "Confusion matrix for svm <sklearn.metrics._plot.confusion_matrix.ConfusionMatrixDisplay object at 0x7f8ce99078d0>\n"
          ]
        },
        {
          "output_type": "display_data",
          "data": {
            "image/png": "[encoded data removed]",
            "text/plain": [
              "<Figure size 432x288 with 2 Axes>"
            ]
          },
          "metadata": {
            "needs_background": "light"
          }
        },
        {
          "output_type": "stream",
          "name": "stdout",
          "text": [
            "\n",
            "\n",
            "Testing through logistic regression\n",
            "Accuracy of testing with logistic regression: 100.0\n",
            "Confusion matrix for SVM\n",
            "Confusion matrix for logistic regression <sklearn.metrics._plot.confusion_matrix.ConfusionMatrixDisplay object at 0x7f8ce970b190>\n"
          ]
        },
        {
          "output_type": "display_data",
          "data": {
            "image/png": "[encoded data removed]",
            "text/plain": [
              "<Figure size 432x288 with 2 Axes>"
            ]
          },
          "metadata": {
            "needs_background": "light"
          }
        }
      ]
    },
    {
      "cell_type": "code",
      "metadata": {
        "colab": {
          "base_uri": "https://localhost:8080/"
        },
        "id": "pbYnnQF-TzdS",
        "outputId": "58e8a7f6-a7ae-4701-9b0f-83453ed1dcb8"
      },
      "source": [
        "correctly_classified1 = 0      \n",
        "    # counter      \n",
        "count = 0      \n",
        "for count in range( np.size( tst_predicted) ) :\n",
        "  if tst_lab[count] == tst_predicted[count] :\n",
        "    correctly_classified1 = correctly_classified1 + 1              \n",
        "    count = count + 1\n",
        "print( \"Accuracy on test set by sklearn model   :  \", ( \n",
        "      correctly_classified1 / count ) * 100 )"
      ],
      "execution_count": null,
      "outputs": [
        {
          "output_type": "stream",
          "name": "stdout",
          "text": [
            "Accuracy on test set by sklearn model   :   100.0\n"
          ]
        }
      ]
    },
    {
      "cell_type": "code",
      "metadata": {
        "colab": {
          "base_uri": "https://localhost:8080/",
          "height": 1000
        },
        "id": "msxhpdF1HETR",
        "outputId": "47d92e98-1289-4b3f-fa02-ef1c14d461c6"
      },
      "source": [
        "# classifying 0 and 1\n",
        "data_train,label_train,data_test, label_test = pair_wise([0,1])\n",
        "knn_training_accuracy,SVM_Training_accuracy,Logistic_training_accuracy,knn_fit, svm_fit, logreg_fit = classifiers(5,data_train,label_train)\n",
        "knn_predicted, knn_testing_accuracy, knn_matrix, svm_predicted, SVM_test_accuracy, svm_matrix,logreg_predicted,Logistic_testing_accuracy, logreg_matrix = testing_classifiers(5,data_test,label_test,knn_fit,svm_fit,logreg_fit)"
      ],
      "execution_count": null,
      "outputs": [
        {
          "output_type": "stream",
          "name": "stdout",
          "text": [
            "(1898, 784)\n",
            "(1898,)\n",
            "(124, 28, 28)\n",
            "Training through KNN\n",
            "KNN Training accuracy = 99.89462592202318\n",
            "\n",
            "\n",
            " Training through SVM\n",
            "SVM training accuracy 100.0\n",
            "\n",
            "\n",
            "Training through Logistic Regression\n",
            "Logisitc training accuracy 100.0\n",
            "\n",
            "\n",
            "Testing through KNN\n",
            "KNN Testing accuracy = 100.0\n",
            "Confusion matrix for knn \n",
            "\n",
            "Confusion matrix for knn <sklearn.metrics._plot.confusion_matrix.ConfusionMatrixDisplay object at 0x7f8ce9e83b90>\n"
          ]
        },
        {
          "output_type": "display_data",
          "data": {
            "image/png": "[encoded data removed]",
            "text/plain": [
              "<Figure size 432x288 with 1 Axes>"
            ]
          },
          "metadata": {
            "needs_background": "light"
          }
        },
        {
          "output_type": "display_data",
          "data": {
            "image/png": "[encoded data removed]",
            "text/plain": [
              "<Figure size 432x288 with 1 Axes>"
            ]
          },
          "metadata": {
            "needs_background": "light"
          }
        },
        {
          "output_type": "display_data",
          "data": {
            "image/png": "[encoded data removed]",
            "text/plain": [
              "<Figure size 432x288 with 1 Axes>"
            ]
          },
          "metadata": {
            "needs_background": "light"
          }
        },
        {
          "output_type": "display_data",
          "data": {
            "image/png": "[encoded data removed]",
            "text/plain": [
              "<Figure size 432x288 with 1 Axes>"
            ]
          },
          "metadata": {
            "needs_background": "light"
          }
        },
        {
          "output_type": "display_data",
          "data": {
            "image/png": "[encoded data removed]",
            "text/plain": [
              "<Figure size 432x288 with 2 Axes>"
            ]
          },
          "metadata": {
            "needs_background": "light"
          }
        },
        {
          "output_type": "stream",
          "name": "stdout",
          "text": [
            "\n",
            "\n",
            "Testing through SVM\n",
            "Accuracy of testing with SVM: 100.0\n",
            "Confusion matrix for SVM\n",
            "Confusion matrix for svm <sklearn.metrics._plot.confusion_matrix.ConfusionMatrixDisplay object at 0x7f8cf1fda0d0>\n"
          ]
        },
        {
          "output_type": "display_data",
          "data": {
            "image/png": "[encoded data removed]",
            "text/plain": [
              "<Figure size 432x288 with 2 Axes>"
            ]
          },
          "metadata": {
            "needs_background": "light"
          }
        },
        {
          "output_type": "stream",
          "name": "stdout",
          "text": [
            "\n",
            "\n",
            "Testing through logistic regression\n",
            "Accuracy of testing with logistic regression: 100.0\n",
            "Confusion matrix for SVM\n",
            "Confusion matrix for logistic regression <sklearn.metrics._plot.confusion_matrix.ConfusionMatrixDisplay object at 0x7f8cf21542d0>\n"
          ]
        },
        {
          "output_type": "display_data",
          "data": {
            "image/png": "[encoded data removed]",
            "text/plain": [
              "<Figure size 432x288 with 2 Axes>"
            ]
          },
          "metadata": {
            "needs_background": "light"
          }
        }
      ]
    },
    {
      "cell_type": "code",
      "metadata": {
        "colab": {
          "base_uri": "https://localhost:8080/",
          "height": 1000
        },
        "id": "ChP8ihWyHxj5",
        "outputId": "82bb7664-c24f-4a46-c7aa-2161630ca47a"
      },
      "source": [
        "# classifying 1 and 2\n",
        "data_train,label_train,data_test, label_test = pair_wise([1,2])\n",
        "knn_training_accuracy,SVM_Training_accuracy,Logistic_training_accuracy,knn_fit, svm_fit, logreg_fit = classifiers(5,data_train,label_train)\n",
        "knn_predicted, knn_testing_accuracy, knn_matrix, svm_predicted, SVM_test_accuracy, svm_matrix,logreg_predicted,Logistic_testing_accuracy, logreg_matrix = testing_classifiers(5,data_test,label_test,knn_fit,svm_fit,logreg_fit)"
      ],
      "execution_count": null,
      "outputs": [
        {
          "output_type": "stream",
          "name": "stdout",
          "text": [
            "(1923, 784)\n",
            "(1923,)\n",
            "(120, 28, 28)\n",
            "Training through KNN\n",
            "KNN Training accuracy = 99.21996879875195\n",
            "\n",
            "\n",
            " Training through SVM\n",
            "SVM training accuracy 100.0\n",
            "\n",
            "\n",
            "Training through Logistic Regression\n",
            "Logisitc training accuracy 100.0\n",
            "\n",
            "\n",
            "Testing through KNN\n",
            "KNN Testing accuracy = 100.0\n",
            "Confusion matrix for knn \n",
            "\n",
            "Confusion matrix for knn <sklearn.metrics._plot.confusion_matrix.ConfusionMatrixDisplay object at 0x7f8ce938c990>\n"
          ]
        },
        {
          "output_type": "display_data",
          "data": {
            "image/png": "[encoded data removed]",
            "text/plain": [
              "<Figure size 432x288 with 1 Axes>"
            ]
          },
          "metadata": {
            "needs_background": "light"
          }
        },
        {
          "output_type": "display_data",
          "data": {
            "image/png": "[encoded data removed]",
            "text/plain": [
              "<Figure size 432x288 with 1 Axes>"
            ]
          },
          "metadata": {
            "needs_background": "light"
          }
        },
        {
          "output_type": "display_data",
          "data": {
            "image/png": "[encoded data removed]",
            "text/plain": [
              "<Figure size 432x288 with 1 Axes>"
            ]
          },
          "metadata": {
            "needs_background": "light"
          }
        },
        {
          "output_type": "display_data",
          "data": {
            "image/png": "[encoded data removed]",
            "text/plain": [
              "<Figure size 432x288 with 1 Axes>"
            ]
          },
          "metadata": {
            "needs_background": "light"
          }
        },
        {
          "output_type": "display_data",
          "data": {
            "image/png": "[encoded data removed]",
            "text/plain": [
              "<Figure size 432x288 with 2 Axes>"
            ]
          },
          "metadata": {
            "needs_background": "light"
          }
        },
        {
          "output_type": "stream",
          "name": "stdout",
          "text": [
            "\n",
            "\n",
            "Testing through SVM\n",
            "Accuracy of testing with SVM: 98.77049180327869\n",
            "Confusion matrix for SVM\n",
            "Confusion matrix for svm <sklearn.metrics._plot.confusion_matrix.ConfusionMatrixDisplay object at 0x7f8ce9406090>\n"
          ]
        },
        {
          "output_type": "display_data",
          "data": {
            "image/png": "[encoded data removed]",
            "text/plain": [
              "<Figure size 432x288 with 2 Axes>"
            ]
          },
          "metadata": {
            "needs_background": "light"
          }
        },
        {
          "output_type": "stream",
          "name": "stdout",
          "text": [
            "\n",
            "\n",
            "Testing through logistic regression\n",
            "Accuracy of testing with logistic regression: 100.0\n",
            "Confusion matrix for SVM\n",
            "Confusion matrix for logistic regression <sklearn.metrics._plot.confusion_matrix.ConfusionMatrixDisplay object at 0x7f8ce9129490>\n"
          ]
        },
        {
          "output_type": "display_data",
          "data": {
            "image/png": "[encoded data removed]",
            "text/plain": [
              "<Figure size 432x288 with 2 Axes>"
            ]
          },
          "metadata": {
            "needs_background": "light"
          }
        }
      ]
    },
    {
      "cell_type": "code",
      "metadata": {
        "colab": {
          "base_uri": "https://localhost:8080/",
          "height": 1000
        },
        "id": "I3Ein0qvIQRt",
        "outputId": "e72e4e70-e6fb-442e-c8c5-e746f19fb37b"
      },
      "source": [
        "# classifying 0 and 1\n",
        "data_train,label_train,data_test, label_test = pair_wise([4,7])\n",
        "knn_training_accuracy,SVM_Training_accuracy,Logistic_training_accuracy,knn_fit, svm_fit, logreg_fit = classifiers(5,data_train,label_train)\n",
        "knn_predicted, knn_testing_accuracy, knn_matrix, svm_predicted, SVM_test_accuracy, svm_matrix,logreg_predicted,Logistic_testing_accuracy, logreg_matrix = testing_classifiers(5,data_test,label_test,knn_fit,svm_fit,logreg_fit)"
      ],
      "execution_count": null,
      "outputs": [
        {
          "output_type": "stream",
          "name": "stdout",
          "text": [
            "(1804, 784)\n",
            "(1804,)\n",
            "(97, 28, 28)\n",
            "Training through KNN\n",
            "KNN Training accuracy = 99.66740576496674\n",
            "\n",
            "\n",
            " Training through SVM\n",
            "SVM training accuracy 100.0\n",
            "\n",
            "\n",
            "Training through Logistic Regression\n",
            "Logisitc training accuracy 99.94456762749445\n",
            "\n",
            "\n",
            "Testing through KNN\n",
            "KNN Testing accuracy = 100.0\n",
            "Confusion matrix for knn \n",
            "\n",
            "Confusion matrix for knn <sklearn.metrics._plot.confusion_matrix.ConfusionMatrixDisplay object at 0x7f8ce90cfe10>\n"
          ]
        },
        {
          "output_type": "display_data",
          "data": {
            "image/png": "[encoded data removed]",
            "text/plain": [
              "<Figure size 432x288 with 1 Axes>"
            ]
          },
          "metadata": {
            "needs_background": "light"
          }
        },
        {
          "output_type": "display_data",
          "data": {
            "image/png": "[encoded data removed]",
            "text/plain": [
              "<Figure size 432x288 with 1 Axes>"
            ]
          },
          "metadata": {
            "needs_background": "light"
          }
        },
        {
          "output_type": "display_data",
          "data": {
            "image/png": "[encoded data removed]",
            "text/plain": [
              "<Figure size 432x288 with 1 Axes>"
            ]
          },
          "metadata": {
            "needs_background": "light"
          }
        },
        {
          "output_type": "display_data",
          "data": {
            "image/png": "[encoded data removed]",
            "text/plain": [
              "<Figure size 432x288 with 1 Axes>"
            ]
          },
          "metadata": {
            "needs_background": "light"
          }
        },
        {
          "output_type": "display_data",
          "data": {
            "image/png": "[encoded data removed]",
            "text/plain": [
              "<Figure size 432x288 with 2 Axes>"
            ]
          },
          "metadata": {
            "needs_background": "light"
          }
        },
        {
          "output_type": "stream",
          "name": "stdout",
          "text": [
            "\n",
            "\n",
            "Testing through SVM\n",
            "Accuracy of testing with SVM: 98.05825242718447\n",
            "Confusion matrix for SVM\n",
            "Confusion matrix for svm <sklearn.metrics._plot.confusion_matrix.ConfusionMatrixDisplay object at 0x7f8ce8e5d5d0>\n"
          ]
        },
        {
          "output_type": "display_data",
          "data": {
            "image/png": "[encoded data removed]",
            "text/plain": [
              "<Figure size 432x288 with 2 Axes>"
            ]
          },
          "metadata": {
            "needs_background": "light"
          }
        },
        {
          "output_type": "stream",
          "name": "stdout",
          "text": [
            "\n",
            "\n",
            "Testing through logistic regression\n",
            "Accuracy of testing with logistic regression: 100.0\n",
            "Confusion matrix for SVM\n",
            "Confusion matrix for logistic regression <sklearn.metrics._plot.confusion_matrix.ConfusionMatrixDisplay object at 0x7f8ce92378d0>\n"
          ]
        },
        {
          "output_type": "display_data",
          "data": {
            "image/png": "[encoded data removed]",
            "text/plain": [
              "<Figure size 432x288 with 2 Axes>"
            ]
          },
          "metadata": {
            "needs_background": "light"
          }
        }
      ]
    },
    {
      "cell_type": "code",
      "metadata": {
        "colab": {
          "base_uri": "https://localhost:8080/"
        },
        "id": "wEWlt7GF0uhb",
        "outputId": "1da83ece-2134-4484-e29a-d284babfa647"
      },
      "source": [
        "dummy_1 =X_train.reshape(len(X_train),-1) \n",
        "print(dummy_1.shape)\n",
        "X_train = np.reshape(X_train,(X_train.shape[0],X_train.shape[1]*X_train.shape[2]))\n",
        "print(X_train.shape)"
      ],
      "execution_count": null,
      "outputs": [
        {
          "output_type": "stream",
          "name": "stdout",
          "text": [
            "(9000, 784)\n",
            "(9000, 784)\n"
          ]
        }
      ]
    },
    {
      "cell_type": "code",
      "metadata": {
        "id": "QV9Ls9R47Y1z"
      },
      "source": [
        "X_train = X_train/255"
      ],
      "execution_count": null,
      "outputs": []
    },
    {
      "cell_type": "code",
      "metadata": {
        "colab": {
          "base_uri": "https://localhost:8080/"
        },
        "id": "dCtEbjka0onX",
        "outputId": "e7e58344-bd5c-41d5-fc1b-69e6d716ae95"
      },
      "source": [
        "from sklearn.neighbors import KNeighborsClassifier\n",
        "print(\"Training through KNN\")\n",
        "knn = KNeighborsClassifier(n_neighbors=5)\n",
        "knn_fit= knn.fit(X_train, y_train)\n",
        "knn_training_accuracy = knn.score(X_train,y_train)*100\n",
        "print('KNN Training accuracy =',knn_training_accuracy)\n",
        "print(\"\\n\")\n",
        "\n",
        "print(\" Training through SVM\")\n",
        "from sklearn.svm import SVC  \n",
        "clf = SVC(kernel='linear') \n",
        "# fitting x samples and y classes \n",
        "svm_fit=clf.fit(X_train, y_train) \n",
        "SVM_Training_accuracy = clf.score(X_train,y_train)*100\n",
        "print(\"SVM training accuracy\",SVM_Training_accuracy )\n",
        "print(\"\\n\")\n",
        "\n",
        "print(\"Training through Logistic Regression\")\n",
        "from sklearn.linear_model import LogisticRegression\n",
        "logistic_reg = LogisticRegression(max_iter=1000)\n",
        "logreg_fit =logistic_reg.fit(X_train,y_train)\n",
        "Logistic_training_accuracy = logistic_reg.score(X_train,y_train)*100\n",
        "print(\"Logisitc training accuracy\",Logistic_training_accuracy)\n",
        "print(\"\\n\")"
      ],
      "execution_count": null,
      "outputs": [
        {
          "output_type": "stream",
          "name": "stdout",
          "text": [
            "Training through KNN\n",
            "KNN Training accuracy = 96.82222222222222\n",
            "\n",
            "\n",
            " Training through SVM\n",
            "SVM training accuracy 99.86666666666667\n",
            "\n",
            "\n",
            "Training through Logistic Regression\n",
            "Logisitc training accuracy 97.63333333333334\n",
            "\n",
            "\n"
          ]
        }
      ]
    },
    {
      "cell_type": "code",
      "metadata": {
        "colab": {
          "base_uri": "https://localhost:8080/"
        },
        "id": "Q4lIrf0o-MfN",
        "outputId": "6833a789-d632-4e46-9c7b-6c89dff4bb23"
      },
      "source": [
        "X_test = X_test.reshape(len(X_test),-1)\n",
        "print(X_test.shape)"
      ],
      "execution_count": null,
      "outputs": [
        {
          "output_type": "stream",
          "name": "stdout",
          "text": [
            "(1000, 784)\n"
          ]
        }
      ]
    },
    {
      "cell_type": "code",
      "metadata": {
        "colab": {
          "base_uri": "https://localhost:8080/",
          "height": 1000
        },
        "id": "Q3oB0Jm528Bd",
        "outputId": "a04f4058-7b31-466d-ce4e-dfccb5933fba"
      },
      "source": [
        "from sklearn.neighbors import KNeighborsClassifier\n",
        "from sklearn.metrics import plot_confusion_matrix\n",
        "from sklearn.svm import SVC  \n",
        "from sklearn.linear_model import LogisticRegression\n",
        "print(\"Testing through KNN\")\n",
        "knn = KNeighborsClassifier(n_neighbors=5)\n",
        "knn = knn_fit\n",
        "knn_predicted = knn.predict(X_test)\n",
        "# final testing\n",
        "knn_testing_accuracy = knn.score(X_test,knn_predicted)*100\n",
        "print('KNN Testing accuracy =',knn_testing_accuracy)\n",
        "print(\"Confusion matrix for knn \\n\")\n",
        "# Generate confusion matrix\n",
        "knn_matrix = plot_confusion_matrix(knn_fit,X_test,knn_predicted,\n",
        "                                 cmap=plt.cm.Blues,\n",
        "                                 normalize='true')\n",
        "print(\"Confusion matrix for knn\",knn_matrix)\n",
        "plt.title('Confusion matrix for knn classifier')\n",
        "plt.show(knn_matrix)\n",
        "plt.show()\n",
        "print(\"\\n\")\n",
        "\n",
        "print(\"Testing through SVM\")\n",
        "clf = SVC(kernel='linear')\n",
        "clf = svm_fit\n",
        "svm_predicted= clf.predict(X_test)\n",
        "#print(svm_predicted)\n",
        "from sklearn import metrics\n",
        "SVM_test_accuracy = metrics.accuracy_score(y_test, svm_predicted)*100\n",
        "print(\"Accuracy of testing with SVM:\",SVM_test_accuracy)\n",
        "print(\"Confusion matrix for SVM\")\n",
        "svm_matrix = plot_confusion_matrix(svm_fit,X_test,svm_predicted,\n",
        "                                 cmap=plt.cm.Blues,\n",
        "                                 normalize='true')\n",
        "print(\"Confusion matrix for svm\",svm_matrix)\n",
        "plt.title('Confusion matrix for svm classifier')\n",
        "plt.show(svm_matrix)\n",
        "plt.show()\n",
        "print(\"\\n\")\n",
        "\n",
        "print(\"Testing through logistic regression\")\n",
        "logistic_reg = LogisticRegression()\n",
        "logistic_reg = logreg_fit\n",
        "logreg_predicted = logistic_reg.predict(X_test)\n",
        "#print(predictions)\n",
        "# Use score method to get accuracy of model\n",
        "Logistic_testing_accuracy = logistic_reg.score(X_test,logreg_predicted)*100\n",
        "print(\"Accuracy of testing with logistic regression:\",Logistic_testing_accuracy)\n",
        "print(\"Confusion matrix for SVM\")\n",
        "logreg_matrix = plot_confusion_matrix(logreg_fit,X_test,logreg_predicted,\n",
        "                                 cmap=plt.cm.Blues,\n",
        "                                 normalize='true')\n",
        "print(\"Confusion matrix for logistic regression\",logreg_matrix)\n",
        "plt.title('Confusion matrix for logistic regression classifier')\n",
        "plt.show(logreg_matrix)\n",
        "plt.show()\n",
        "#print(\"\\n\")"
      ],
      "execution_count": null,
      "outputs": [
        {
          "output_type": "stream",
          "name": "stdout",
          "text": [
            "Testing through KNN\n",
            "KNN Testing accuracy = 100.0\n",
            "Confusion matrix for knn \n",
            "\n",
            "Confusion matrix for knn <sklearn.metrics._plot.confusion_matrix.ConfusionMatrixDisplay object at 0x7f3ca674a810>\n"
          ]
        },
        {
          "output_type": "display_data",
          "data": {
            "image/png": "[encoded data removed]",
            "text/plain": [
              "<Figure size 432x288 with 2 Axes>"
            ]
          },
          "metadata": {
            "needs_background": "light"
          }
        },
        {
          "output_type": "stream",
          "name": "stdout",
          "text": [
            "\n",
            "\n",
            "Testing through SVM\n",
            "Accuracy of testing with SVM: 83.7\n",
            "Confusion matrix for SVM\n",
            "Confusion matrix for svm <sklearn.metrics._plot.confusion_matrix.ConfusionMatrixDisplay object at 0x7f3ca665b110>\n"
          ]
        },
        {
          "output_type": "display_data",
          "data": {
            "image/png": "[encoded data removed]",
            "text/plain": [
              "<Figure size 432x288 with 2 Axes>"
            ]
          },
          "metadata": {
            "needs_background": "light"
          }
        },
        {
          "output_type": "stream",
          "name": "stdout",
          "text": [
            "\n",
            "\n",
            "Testing through logistic regression\n",
            "Accuracy of testing with logistic regression: 100.0\n",
            "Confusion matrix for SVM\n",
            "Confusion matrix for logistic regression <sklearn.metrics._plot.confusion_matrix.ConfusionMatrixDisplay object at 0x7f3ca674a050>\n"
          ]
        },
        {
          "output_type": "display_data",
          "data": {
            "image/png": "[encoded data removed]",
            "text/plain": [
              "<Figure size 432x288 with 2 Axes>"
            ]
          },
          "metadata": {
            "needs_background": "light"
          }
        }
      ]
    },
    {
      "cell_type": "code",
      "metadata": {
        "colab": {
          "base_uri": "https://localhost:8080/"
        },
        "id": "L1cGeqi7Ag5X",
        "outputId": "e15a234b-a4b0-464d-fca0-7340bc975be1"
      },
      "source": [
        "K=2\n",
        "\n",
        "pred_label=np.zeros(X_test.shape[0])\n",
        "for i in range(X_test.shape[0]):\n",
        "  neig=get_neighbors(X_train,y_train,X_test[i,:], K)\n",
        "  pred_label[i]=predict_classification(neig)\n",
        "\n",
        "accuracy=(len(np.where(pred_label==y_test)[0])/len(y_test))*100\n",
        "print('Testing Accuracy=',accuracy,'%')\n",
        "print(pred_label[:5])\n",
        "print(y_test[:5])"
      ],
      "execution_count": null,
      "outputs": [
        {
          "output_type": "stream",
          "name": "stdout",
          "text": [
            "Testing Accuracy= 72.2 %\n",
            "[0. 0. 2. 1. 1.]\n",
            "[0 6 7 1 1]\n"
          ]
        }
      ]
    },
    {
      "cell_type": "code",
      "metadata": {
        "id": "qwLZCLKgB5jx"
      },
      "source": [
        "class logis_regression:\n",
        "  # Constructor\n",
        "  def __init__(self, name='reg'):\n",
        "    self.name = name  # Create an instance variable\n",
        "\n",
        "  def logis(self,x,w_old):\n",
        "    #print(x.T.shape)\n",
        "    #print(w_old.shape)\n",
        "    # write code here\n",
        "    z = np.dot(x.T, w_old)\n",
        "    op = 1 / (1 + np.exp(-z))\n",
        "    return op\n",
        "\n",
        "  def grad_update(self,w_old,lr,y,x):\n",
        "    # write code here\n",
        "    N = len(x)\n",
        "    y_hat = self.logis(x, w_old)\n",
        "    w_old -= lr * np.dot(x,  y_hat - y) / N \n",
        "    return w_old\n",
        "\n",
        "  def error(self,w_old,y,x):\n",
        "    predict_1 = y * np.log(self.logis(x,w_old))\n",
        "    predict_0 = (1 - y) * np.log(1 - self.logis(x,w_old))\n",
        "    return -sum(predict_1 + predict_0) / len(x)\n",
        "    \n",
        "\n",
        "  def Regression_grad_des(self,x,y,lr):\n",
        "    diff1=1\n",
        "    diff2=0\n",
        "    loss = []\n",
        "    w_old = np.random.rand(x.shape[0],1)\n",
        "    #print(w_old.shape)\n",
        "    for i in range(1000):\n",
        "      # write code here\n",
        "      diff1 = self.error(w_old,y,x)\n",
        "      w_old = self.grad_update(w_old,lr,y,x)    \n",
        "      diff2 = self.error(w_old,y,x)\n",
        "      loss.append(diff1)\n",
        "      w_pred = w_old\n",
        "      err = loss\n",
        "      dev=np.abs(diff1-diff2)\n",
        "          \n",
        "      if dev<=10**(-20):\n",
        "        break\n",
        "\n",
        "    return w_pred,err\n",
        "  \n",
        "  def predict(self, x,w_pred):\n",
        "    # Predicting with sigmoid function\n",
        "    \n",
        "    # Returning binary result\n",
        "    return [1 if i > 0.5 else 0 for i in self.logis(x,w_pred)]"
      ],
      "execution_count": null,
      "outputs": []
    },
    {
      "cell_type": "code",
      "metadata": {
        "id": "LbSmfXWpCsJy"
      },
      "source": [
        "def sigmoid(z):\n",
        "    return 1 / (1 + np.exp(-z))\n",
        "def fit(x, y, max_iter=1000, alpha=0.01):\n",
        "    #x = np.insert(x, 0, 1, axis=1)\n",
        "    w_pred_class = []\n",
        "    classes = np.unique(y)\n",
        "    costs = np.zeros(max_iter)\n",
        "\n",
        "    for c in classes:\n",
        "        # one vs. rest binary classification\n",
        "        binary_y = np.where(y == c, 1, 0)\n",
        "        #print(binary_y)\n",
        "        \n",
        "        w_pred = np.zeros(x.shape[0])\n",
        "        w_pred,error_grad=reg.Regression_grad_des(x,binary_y,alpha)\n",
        "            \n",
        "        w_pred_class.append(w_pred)\n",
        "    return w_pred_class, classes, error_grad\n",
        "def predict(classes, w_pred_class, x):\n",
        "    #x = np.insert(x, 0, 1, axis=1)\n",
        "    #print(x.shape)\n",
        "    preds = [np.argmax(\n",
        "        [sigmoid(w_pred.T@xi) for w_pred in w_pred_class]\n",
        "    ) for xi in x]\n",
        "    print(preds)\n",
        "    return [classes[p] for p in preds]"
      ],
      "execution_count": null,
      "outputs": []
    },
    {
      "cell_type": "code",
      "metadata": {
        "id": "eBPHmPO3FAs7"
      },
      "source": [
        "mean = np.mean(X_train, axis=0)\n",
        "X_train = X_train - mean\n",
        "X_test = X_test - mean\n",
        "X_train = np.hstack([X_train, np.ones((X_train.shape[0], 1))])\n",
        "X_test = np.hstack([X_test, np.ones((X_test.shape[0], 1))])"
      ],
      "execution_count": null,
      "outputs": []
    },
    {
      "cell_type": "markdown",
      "metadata": {
        "id": "1vQc_i7dNlVv"
      },
      "source": [
        "**Note : If you are interested, also try classifying MNIST digit data using the code you have written for SVM, KNN and Logistic Regression** \n",
        "\n",
        "  "
      ]
    }
  ]
}